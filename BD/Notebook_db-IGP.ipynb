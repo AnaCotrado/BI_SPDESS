{
    "metadata": {
        "kernelspec": {
            "name": "SQL",
            "display_name": "SQL",
            "language": "sql"
        },
        "language_info": {
            "name": "sql",
            "version": ""
        },
        "extensions": {
            "azuredatastudio": {
                "version": 1,
                "views": []
            }
        }
    },
    "nbformat_minor": 2,
    "nbformat": 4,
    "cells": [
        {
            "cell_type": "code",
            "source": [
                "USE [db-IGP]\r\n",
                "GO"
            ],
            "metadata": {
                "azdata_cell_guid": "4e58ddc5-1706-4545-bcc3-eee4f46c2984"
            },
            "outputs": [
                {
                    "output_type": "display_data",
                    "data": {
                        "text/html": "Commands completed successfully."
                    },
                    "metadata": {}
                },
                {
                    "output_type": "display_data",
                    "data": {
                        "text/html": "Total execution time: 00:00:00.025"
                    },
                    "metadata": {}
                }
            ],
            "execution_count": 1
        },
        {
            "cell_type": "code",
            "source": [
                "--Tabla TwitterIGP registra los tweet de IGP hasta la actualidad\r\n",
                "CREATE TABLE dbo.TwitterIGP \r\n",
                "   (ID int PRIMARY KEY IDENTITY(1,1) NOT NULL,\r\n",
                "    TweetID BIGINT NOT NULL,\r\n",
                "    TweetText VARCHAR(250) NOT NULL,\r\n",
                "    TweetUrl VARCHAR(60) NOT NULL)  \r\n",
                "GO  "
            ],
            "metadata": {
                "azdata_cell_guid": "97cdf1dc-8613-4701-a554-b909041a794f",
                "tags": []
            },
            "outputs": [
                {
                    "output_type": "display_data",
                    "data": {
                        "text/html": "Commands completed successfully."
                    },
                    "metadata": {}
                },
                {
                    "output_type": "display_data",
                    "data": {
                        "text/html": "Total execution time: 00:00:00.032"
                    },
                    "metadata": {}
                }
            ],
            "execution_count": 7
        },
        {
            "cell_type": "code",
            "source": [
                "--Tabla Sismo registra los sismos de forma detallada\r\n",
                "CREATE TABLE dbo.Sismo(\r\n",
                "    ID int PRIMARY KEY IDENTITY(1,1) NOT NULL,\r\n",
                "    SismoID VARCHAR(50) NULL,\r\n",
                "    Magnitud REAL NOT NULL,\r\n",
                "    Fecha DATE NOT NULL,\r\n",
                "    Hora TIME NOT NULL,\r\n",
                "    Latitud REAL NOT NULL,\r\n",
                "    Longitud REAL NOT NULL,\r\n",
                "    Profundidad REAL NOT NULL,\r\n",
                "    Referencia VARCHAR(100) NULL\r\n",
                ")"
            ],
            "metadata": {
                "azdata_cell_guid": "8ab6981d-77b5-4db2-9cad-fbe8b4e1d825"
            },
            "outputs": [
                {
                    "output_type": "display_data",
                    "data": {
                        "text/html": "Commands completed successfully."
                    },
                    "metadata": {}
                },
                {
                    "output_type": "display_data",
                    "data": {
                        "text/html": "Total execution time: 00:00:00.010"
                    },
                    "metadata": {}
                }
            ],
            "execution_count": 12
        }
    ]
}